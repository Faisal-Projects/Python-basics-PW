{
  "nbformat": 4,
  "nbformat_minor": 0,
  "metadata": {
    "colab": {
      "provenance": []
    },
    "kernelspec": {
      "name": "python3",
      "display_name": "Python 3"
    },
    "language_info": {
      "name": "python"
    }
  },
  "cells": [
    {
      "cell_type": "markdown",
      "source": [
        "# Basic Questions"
      ],
      "metadata": {
        "id": "a_yFCxTHuEoA"
      }
    },
    {
      "cell_type": "markdown",
      "source": [
        "1.What is python , why it is popular ?\n",
        "\n",
        "Python is both compield and interepreted , object - oriented , high level programming language with dynamic semanantics.\n",
        "Python is general purpose programming language .\n",
        "It was developed by Guido Van Rossum in the year 1991.\n",
        "Python is popular because >>\n",
        "\n",
        "Python is easy to learn it has simple readable syntax.\n",
        "It is beginer freindly.\n",
        "It's open source - you can download the source code , and use it however you want.\n",
        "versitality - Python is genral purpose programming language but can be used to creat different programmes.\n",
        "It is cross plat-form language - it can run the same code on any operating system with python interpreter.\n",
        "It is widely used in industries.\n",
        "It has lots of libraries.\n",
        "It has huge active community."
      ],
      "metadata": {
        "id": "6K53psYXo4vC"
      }
    },
    {
      "cell_type": "markdown",
      "source": [
        "2. What is an interpreter in python ?\n",
        "\n",
        "A python interpreter is a computer programme that reads python code and execute it line by line .\n",
        "The interpreter reads the code and then it translates it into machine readable byte code , and then it executes the byte code."
      ],
      "metadata": {
        "id": "8-GXc1a6rAoV"
      }
    },
    {
      "cell_type": "markdown",
      "source": [
        "3. What are pre-defined keywords in python ?\n",
        "\n",
        "Pre-defined keywords are the reserved words whose meaning is already defined in the python interpreter.\n",
        "\n",
        "They hold a special meaning and have specific purpose in python.\n",
        "\n",
        "They are case-sensitive. And we can not use them as a variable name.\n",
        "\n",
        "Some examples of pre-defined keywords in python are >>\n",
        "\n",
        "(if , else , break , print , def , class , lambda , while , try , etc)"
      ],
      "metadata": {
        "id": "oSgIBrE3rFRK"
      }
    },
    {
      "cell_type": "markdown",
      "source": [
        "4. Can keywords be used as variable names ?\n",
        "\n",
        "No, keywords can not be used as variable names."
      ],
      "metadata": {
        "id": "vrbrdusFrzIS"
      }
    },
    {
      "cell_type": "markdown",
      "source": [
        "5. What is mutability in python ?\n",
        "\n",
        "Mutable objects in python are those objects which can be changed or modified after they created.\n",
        "Example of mutable object in python are - list and dictionaries"
      ],
      "metadata": {
        "id": "G_oEXUbur_jd"
      }
    },
    {
      "cell_type": "markdown",
      "source": [
        "6. Why are lists mutable , but tuples are immutable ?\n",
        "\n",
        "lists are mutable because the data stored inside the list can be updated or modified .\n",
        "tuples are immutable because data can not be changed or updated."
      ],
      "metadata": {
        "id": "V4-jiy6JsG0U"
      }
    },
    {
      "cell_type": "markdown",
      "source": [
        "7. What is the difference between \"==\" and \"is\" operator in python ?\n",
        "\n",
        "The \"==\"operator is known as the equality operator.\n",
        "\n",
        "The \"==\"operator helps us compare the equality of objects.\n",
        "\n",
        "We use the \"==\" operator in python when the values of both the operands are very much equal.thus, the condition would become true.\n",
        "\n",
        "The \"is\" operator is known as identity operator.\n",
        "\n",
        "The \"is\" operator helps us check whether different variables points towards a similar object in the memory.\n",
        "\n",
        "An \"is\" operator would evaluate to true whenever the variables present on either side of an operator would point towards the very same objects. otherwise, it would give us a false evaluation."
      ],
      "metadata": {
        "id": "GDPV1JzfsMGf"
      }
    },
    {
      "cell_type": "markdown",
      "source": [
        "8. what are logical operators in python?\n",
        "\n",
        "Logical operators are also called boolean operators.\n",
        "Logical operators are used to combine conditional statements\n",
        "There are three types of logical operators -\n",
        "\n",
        "and : Returns true if both the operands are true.\n",
        "\n",
        "syntax x and y\n",
        "Example x>5 and x>9\n",
        "or : Returns true if either of the operands is true\n",
        "\n",
        "syntax x or y\n",
        "Example x>5 or x>9\n",
        "not : Returns true if the operand is false\n",
        "\n",
        "syntax not x\n",
        "Example not(x>5 and x>9)"
      ],
      "metadata": {
        "id": "A-KIxAoNsbY-"
      }
    },
    {
      "cell_type": "markdown",
      "source": [
        "9. What is type casting in python ?\n",
        "\n",
        "Type casting is a process in which we convert a literal of one data type to another data type.\n",
        "There are two types of typecasting - 1) Implicit type casting , 2) Explicit type casting.\n"
      ],
      "metadata": {
        "id": "PROJbCzZs04S"
      }
    },
    {
      "cell_type": "markdown",
      "source": [
        "10. What is the difference between implicit and explicit type casting ?\n",
        "\n",
        "Implicit type casting - When various types of data are mixed together in the expression The compiler automatically performs the implicit type conversion.\n",
        "\n",
        "In Implicit type casting , there is no loss of data.\n",
        "\n",
        "Explicit type casting - The conversion of one data type into another data type , done via developer or programmer intervention or manually as per the requirement is known as explicit type conversion."
      ],
      "metadata": {
        "id": "Bexo_Nl9s40H"
      }
    },
    {
      "cell_type": "markdown",
      "source": [
        "11. What is the purpose of conditional statements in python ?\n",
        "\n",
        "Conditional Statements are statements in Python that provide a choice for the control flow based on a condition.\n",
        "\n",
        "They checks the value of a condition , and if the condition evaluates to true , then a certain block of code is executed.\n",
        "\n",
        "Types of conditional statements in python\n",
        "if\n",
        "if - else\n",
        "if - elif -else\n",
        "nested - if - else"
      ],
      "metadata": {
        "id": "Was3UcPOs-Us"
      }
    },
    {
      "cell_type": "markdown",
      "source": [
        "12. How does the elif statement work ?\n",
        "\n",
        "elif stands for \"else if\" in python . It is used in conditional statements to check for multiple conditions.\n",
        "\n",
        "For example , if the first condition is false , it moves on to the next \"elif\" statement to check that if that condition is true . if none of the conditions are true, the code will execute the else statement.\n",
        "\n",
        "-SYNTAX\n",
        "\n",
        "if condition1:\n",
        "   # execute code if condition1 is true\n",
        "if condition2:\n",
        "   # execute code if condition2 is true\n",
        "else:\n",
        "   # execute code if all conditions are false\n",
        "   "
      ],
      "metadata": {
        "id": "KMfZc5odtC3p"
      }
    },
    {
      "cell_type": "markdown",
      "source": [
        "13. What is the difference between for and while loops ?\n",
        "\n",
        "#for loop -\n",
        "A for loop is a control flow statement that executes code for a predefined number of iteration.\n",
        "\n",
        "A for loop is used for iterating over a sequence ( that is either a list , a tuple , a dictionary , a set or a string).\n",
        "\n",
        "The keyword used in this control flow statement is \"for\" when the number of iterations is already know, the for loop is used -The initialization , condition checking , and iteration statements are written at the begining of the loop\n",
        "\n",
        "It is used only when the number of iterations is known beforehand .\n",
        "If the condition is not mentioned in the \"for\"loop , then the iterates the infinite number of times.\n",
        "\n",
        "The initialization is done only once , and it is never repeated .\n",
        "The iteration statement is written at the begining hence , it executes once all stetements in the loop have been executed .\n",
        "\n",
        "\n",
        "\n",
        "#--- while loop -\n",
        "A while loop that runs a single statement or a set of statements for a given true condition. this loop is represented by the keyword \"while\".\n",
        "\n",
        "The initialization and condition checking are done at the begining of the loop.\n",
        "It is used only when the number of iteration isn't known .\n",
        "\n",
        "If the condition is not mentioned in the \"while\" loop , it results in a compilation error.\n",
        "\n",
        "If the initialization is done when the condition is being checked, the initialization occours every time the loop is iterated through.\n",
        "\n",
        "The iteration statement can be written within any point inside the loop."
      ],
      "metadata": {
        "id": "xjJY1QmbtLp8"
      }
    },
    {
      "cell_type": "markdown",
      "source": [
        "14. Describe a scenario where a while loop is more suitable than a for loop.\n",
        "\n",
        "for loop is used when the number of iteration is known and in while loop execution is done until the statement in the program is proved wrong.\n",
        "\n",
        "while loop is used when you don't know the number of iteration iterations or need to iterate over a collection."
      ],
      "metadata": {
        "id": "IutJsgoFtd5K"
      }
    },
    {
      "cell_type": "markdown",
      "source": [],
      "metadata": {
        "id": "2yaTkp70uAkE"
      }
    },
    {
      "cell_type": "markdown",
      "source": [
        "#Practical Questions\n"
      ],
      "metadata": {
        "id": "IVZqlixMt8FU"
      }
    },
    {
      "cell_type": "code",
      "execution_count": null,
      "metadata": {
        "colab": {
          "base_uri": "https://localhost:8080/"
        },
        "id": "Bxv2l0B1fOtW",
        "outputId": "02413adf-27cc-430e-9d07-601e9e82084e"
      },
      "outputs": [
        {
          "output_type": "stream",
          "name": "stdout",
          "text": [
            "hello world\n"
          ]
        }
      ],
      "source": [
        "#Write a Python program to print \"Hello, World!_\n",
        "\n",
        "a= \"hello world\"\n",
        "print(a)"
      ]
    },
    {
      "cell_type": "code",
      "source": [
        "#Write a Python program that displays your name and age0\n",
        "\n",
        "a = \"Faisal\"\n",
        "b = 24\n",
        "\n",
        "print(a)\n",
        "print(b)"
      ],
      "metadata": {
        "colab": {
          "base_uri": "https://localhost:8080/"
        },
        "id": "jDQLuwiVfpU-",
        "outputId": "5985c986-460d-4cf7-de8f-80b82768fe2c"
      },
      "execution_count": null,
      "outputs": [
        {
          "output_type": "stream",
          "name": "stdout",
          "text": [
            "Faisal\n",
            "24\n"
          ]
        }
      ]
    },
    {
      "cell_type": "code",
      "source": [
        "#Write code to print all the pre-defined keywords in Python using the keyword library\n",
        "\n",
        "import keyword\n",
        "\n",
        "print (keyword.kwlist)"
      ],
      "metadata": {
        "colab": {
          "base_uri": "https://localhost:8080/"
        },
        "id": "mR6EF-S3gF6e",
        "outputId": "b1b386b0-21ca-4d5e-8424-7e37375f5eef"
      },
      "execution_count": null,
      "outputs": [
        {
          "output_type": "stream",
          "name": "stdout",
          "text": [
            "['False', 'None', 'True', 'and', 'as', 'assert', 'async', 'await', 'break', 'class', 'continue', 'def', 'del', 'elif', 'else', 'except', 'finally', 'for', 'from', 'global', 'if', 'import', 'in', 'is', 'lambda', 'nonlocal', 'not', 'or', 'pass', 'raise', 'return', 'try', 'while', 'with', 'yield']\n"
          ]
        }
      ]
    },
    {
      "cell_type": "code",
      "source": [
        "#Write a program that checks if a given word is a Python keyword\n",
        "\n",
        "import keyword\n",
        "\n",
        "word = input (\"enter a word here: \")\n",
        "if keyword.iskeyword(word):\n",
        "    print (word, \"is a python keyword\")\n",
        "else:\n",
        "    print (word, \"is not a python keyword\")"
      ],
      "metadata": {
        "colab": {
          "base_uri": "https://localhost:8080/"
        },
        "id": "8cMZASk0gy2j",
        "outputId": "47144e59-d238-49da-df6f-04810e9266e4"
      },
      "execution_count": null,
      "outputs": [
        {
          "output_type": "stream",
          "name": "stdout",
          "text": [
            "enter a word here: print\n",
            "print is not a python keyword\n"
          ]
        }
      ]
    },
    {
      "cell_type": "code",
      "source": [
        "#Create a list and tuple in Python, and demonstrate how attempting to change an element works differently for each.\n",
        "\n",
        "#list\n",
        "Items_list = [\"Fruits\", 10 , \"Vegetables\", 5,\"Ice cream\",12]\n",
        "print(Items_list) #Original List\n",
        "\n",
        "#Modification in list\n",
        "Items_list[2]=\"Pulses\"\n",
        "print(\"Modified list-\",Items_list) #Modified List\n",
        "\n",
        "\n",
        "#tuple\n",
        "Items_tuple = (\"Fruits\",10,\"Vegetables\",5,\"Ice cream\",12)\n",
        "print(Items_tuple) #original tuple\n",
        "\n",
        "#Modification in tuple\n",
        "try:\n",
        "  Items_tuple[2]= \"Pulses\"\n",
        "  print(\"Modified tuple-\",Items_tuple) #trying to modify tuple\n",
        "except TypeError:\n",
        "  print(\"Tuples can not be modified\")\n"
      ],
      "metadata": {
        "id": "YlJK4T0SolYD",
        "colab": {
          "base_uri": "https://localhost:8080/"
        },
        "outputId": "823b9a14-a00f-4039-eb29-31271f490c89"
      },
      "execution_count": null,
      "outputs": [
        {
          "output_type": "stream",
          "name": "stdout",
          "text": [
            "['Fruits', 10, 'Vegetables', 5, 'Ice cream', 12]\n",
            "Modified list- ['Fruits', 10, 'Pulses', 5, 'Ice cream', 12]\n",
            "('Fruits', 10, 'Vegetables', 5, 'Ice cream', 12)\n",
            "Tuples can not be modified\n"
          ]
        }
      ]
    },
    {
      "cell_type": "code",
      "source": [
        "#Write a function to demonstrate the behavior of mutable and immutable arguments\n",
        "\n",
        "def demonstrate_mutable_immutable():\n",
        "\n",
        "    def modify_immutable(x):\n",
        "        print(\"before modification (immutable)\", x )\n",
        "        x = x + 10\n",
        "        print ( \"before modification (immutable)\", x )\n",
        "\n",
        "    def modify_mutable (lst):\n",
        "        print (\"before modification (mutable):\", lst)\n",
        "        lst.append (10)\n",
        "        print (\"after modification (mutable):\", lst)\n",
        "\n",
        "    num = 5\n",
        "    print (\"immutable example: \")\n",
        "    print (\"original number: \", num)\n",
        "    modify_immutable(num)\n",
        "    print (\"number after function call: \", num)\n",
        "\n",
        "    print()\n",
        "\n",
        "    my_list = [1,2,3]\n",
        "    print ( \"mutable example: \")\n",
        "    print (\"original list: \", my_list)\n",
        "    modify_mutable(my_list)\n",
        "    print(\"list after function: \", my_list)\n",
        "\n",
        "demonstrate_mutable_immutable()\n",
        "\n"
      ],
      "metadata": {
        "id": "s9dLblI2b9--",
        "colab": {
          "base_uri": "https://localhost:8080/"
        },
        "outputId": "20aae04a-4748-4e3f-d004-a25afa2ecfed"
      },
      "execution_count": 13,
      "outputs": [
        {
          "output_type": "stream",
          "name": "stdout",
          "text": [
            "immutable example: \n",
            "original number:  5\n",
            "before modification (immutable) 5\n",
            "before modification (immutable) 15\n",
            "number after function call:  5\n",
            "\n",
            "mutable example: \n",
            "original list:  [1, 2, 3]\n",
            "before modification (mutable): [1, 2, 3]\n",
            "after modification (mutable): [1, 2, 3, 10]\n",
            "list after function:  [1, 2, 3, 10]\n"
          ]
        }
      ]
    },
    {
      "cell_type": "code",
      "source": [
        "#Write a program to demonstrate the use of logical operators\n",
        "\n",
        "def logical_operators_demo():\n",
        "    a = 1\n",
        "    b = 2\n",
        "    c = 3\n",
        "\n",
        "    print(\"Logical Operators Demonstration\")\n",
        "    print(f\"a = {a}, b = {b}, c = {c}\\n\")\n",
        "\n",
        "    # AND operator\n",
        "    print(\"AND Operator:\")\n",
        "    print(f\"(a < b) and (b < c): {(a < b) and (b < c)}\")  # True and True = True\n",
        "    print(f\"(a > b) and (b < c): {(a > b) and (b < c)}\")  # False and True = False\n",
        "    print()\n",
        "\n",
        "    # OR operator\n",
        "    print(\"OR Operator:\")\n",
        "    print(f\"(a > b) or (b < c): {(a > b) or (b < c)}\")  # False or True = True\n",
        "    print(f\"(a > b) or (c < b): {(a > b) or (c < b)}\")  # False or False = False\n",
        "    print()\n",
        "\n",
        "    # NOT operator\n",
        "    print(\"NOT Operator:\")\n",
        "    print(f\"not (a > b): {not (a > b)}\")  # not False = True\n",
        "    print(f\"not (b < c): {not (b < c)}\")  # not True = False\n",
        "    print()\n",
        "\n",
        "    # Combining logical operators\n",
        "    print(\"Combining Operators:\")\n",
        "    print(f\"((a < b) and (b < c)) or (a > c): {((a < b) and (b < c)) or (a > c)}\")  # (True and True) or False = True\n",
        "    print(f\"not ((a > c) or (b > c)): {not ((a > c) or (b > c))}\")  # not (False or False) = True\n",
        "\n",
        "# Call the function\n",
        "logical_operators_demo()"
      ],
      "metadata": {
        "colab": {
          "base_uri": "https://localhost:8080/"
        },
        "id": "jQdc6mLQiKxT",
        "outputId": "150c71e1-61ef-47c3-e70a-663665c85e32"
      },
      "execution_count": 14,
      "outputs": [
        {
          "output_type": "stream",
          "name": "stdout",
          "text": [
            "Logical Operators Demonstration\n",
            "a = 1, b = 2, c = 3\n",
            "\n",
            "AND Operator:\n",
            "(a < b) and (b < c): True\n",
            "(a > b) and (b < c): False\n",
            "\n",
            "OR Operator:\n",
            "(a > b) or (b < c): True\n",
            "(a > b) or (c < b): False\n",
            "\n",
            "NOT Operator:\n",
            "not (a > b): True\n",
            "not (b < c): False\n",
            "\n",
            "Combining Operators:\n",
            "((a < b) and (b < c)) or (a > c): True\n",
            "not ((a > c) or (b > c)): True\n"
          ]
        }
      ]
    },
    {
      "cell_type": "code",
      "source": [
        "#Write a Python program to convert user input from string to integer, float, and boolean types\n",
        "\n",
        "def convert_input():\n",
        "    user_input = input(\"Enter something: \")  # Get input from the user\n",
        "\n",
        "    # Convert to integer\n",
        "    try:\n",
        "        int_value = int(user_input)\n",
        "        print(f\"Converted to integer: {int_value}\")\n",
        "    except ValueError:\n",
        "        print(\"Cannot convert to integer.\")\n",
        "\n",
        "    # Convert to float\n",
        "    try:\n",
        "        float_value = float(user_input)\n",
        "        print(f\"Converted to float: {float_value}\")\n",
        "    except ValueError:\n",
        "        print(\"Cannot convert to float.\")\n",
        "\n",
        "    # Convert to boolean\n",
        "    bool_value = bool(user_input)  # Any non-empty string is True\n",
        "    print(f\"Converted to boolean: {bool_value}\")\n",
        "\n",
        "# Call the function\n",
        "convert_input()"
      ],
      "metadata": {
        "colab": {
          "base_uri": "https://localhost:8080/"
        },
        "id": "4xOMoeVJjbhU",
        "outputId": "372a029e-7a52-4830-d7fb-8d2b92acdf23"
      },
      "execution_count": 15,
      "outputs": [
        {
          "output_type": "stream",
          "name": "stdout",
          "text": [
            "Enter something: 35.0\n",
            "Cannot convert to integer.\n",
            "Converted to float: 35.0\n",
            "Converted to boolean: True\n"
          ]
        }
      ]
    },
    {
      "cell_type": "code",
      "source": [
        "#Write code to demonstrate type casting with list elements0\n",
        "\n",
        "def demonstrate_type_casting():\n",
        "    my_list = [\"10\", \"20.5\", \"True\", \"hello\"]  # List of strings\n",
        "    print(\"Original list:\", my_list)\n",
        "\n",
        "    # Convert elements to integer\n",
        "    int_list = [int(x) for x in my_list if x.isdigit()]\n",
        "    print(\"Converted to integers:\", int_list)\n",
        "\n",
        "    # Convert elements to float\n",
        "    float_list = [float(x) for x in my_list if x.replace('.', '', 1).isdigit()]\n",
        "    print(\"Converted to floats:\", float_list)\n",
        "\n",
        "    # Convert elements to boolean\n",
        "    bool_list = [bool(x) for x in my_list]\n",
        "    print(\"Converted to booleans:\", bool_list)\n",
        "\n",
        "# Call the function\n",
        "demonstrate_type_casting()"
      ],
      "metadata": {
        "colab": {
          "base_uri": "https://localhost:8080/"
        },
        "id": "P6UaiIiSkPWw",
        "outputId": "6877e2a1-2298-4edc-e660-533b807d09a0"
      },
      "execution_count": 16,
      "outputs": [
        {
          "output_type": "stream",
          "name": "stdout",
          "text": [
            "Original list: ['10', '20.5', 'True', 'hello']\n",
            "Converted to integers: [10]\n",
            "Converted to floats: [10.0, 20.5]\n",
            "Converted to booleans: [True, True, True, True]\n"
          ]
        }
      ]
    },
    {
      "cell_type": "code",
      "source": [
        "#Write a program that checks if a number is positive, negative, or zero\n",
        "\n",
        "num = float (input(\"Enter a number here: \"))\n",
        "\n",
        "if num > 0 :\n",
        "    print ( num, \"is a postive number\")\n",
        "\n",
        "elif num < 0 :\n",
        "    print ( num, \" is a negative number\")\n",
        "\n",
        "else :\n",
        "    print (\"Number is zero\")"
      ],
      "metadata": {
        "colab": {
          "base_uri": "https://localhost:8080/"
        },
        "id": "akupx7wTlRrZ",
        "outputId": "ab30069d-d082-47c1-f299-68a32cc1ea2c"
      },
      "execution_count": 20,
      "outputs": [
        {
          "output_type": "stream",
          "name": "stdout",
          "text": [
            "Enter a number here: 2\n",
            "2.0 is a postive number\n"
          ]
        }
      ]
    },
    {
      "cell_type": "code",
      "source": [
        "#Write a for loop to print numbers from 1 to 10\n",
        "\n",
        "for i in range (1,10):\n",
        "    print (i)"
      ],
      "metadata": {
        "colab": {
          "base_uri": "https://localhost:8080/"
        },
        "id": "cAOnzvQ7lr4p",
        "outputId": "2fe82992-9302-4e12-b2e1-78ac435a0520"
      },
      "execution_count": 23,
      "outputs": [
        {
          "output_type": "stream",
          "name": "stdout",
          "text": [
            "1\n",
            "2\n",
            "3\n",
            "4\n",
            "5\n",
            "6\n",
            "7\n",
            "8\n",
            "9\n"
          ]
        }
      ]
    },
    {
      "cell_type": "code",
      "source": [
        "# Write a Python program to find the sum of all even numbers between 1 and 50\n",
        "\n",
        "sum = 0\n",
        "for i in range (1,51):\n",
        "  if i % 2 ==0:\n",
        "    sum += i\n",
        "\n",
        "print(\"sum of all even numbers between 1 and 50 is:\",sum)\n"
      ],
      "metadata": {
        "colab": {
          "base_uri": "https://localhost:8080/"
        },
        "id": "WFM5w8j1mOpq",
        "outputId": "1c5b6d1a-65a3-4e95-abfe-6338984ad979"
      },
      "execution_count": 24,
      "outputs": [
        {
          "output_type": "stream",
          "name": "stdout",
          "text": [
            "sum of all even numbers between 1 and 50 is: 650\n"
          ]
        }
      ]
    },
    {
      "cell_type": "code",
      "source": [
        "# Write a program to reverse a string using a while loop\n",
        "\n",
        "def reverse_string():\n",
        "\n",
        "    string = input(\"enter your string here\")\n",
        "    reversed_string = \" \"\n",
        "    i = len (string)-1\n",
        "\n",
        "    while i >= 0:\n",
        "        reversed_string += string[i]\n",
        "        i-=1\n",
        "\n",
        "    print ( \"reversed string: \", reversed_string )\n",
        "\n",
        "reverse_string()"
      ],
      "metadata": {
        "colab": {
          "base_uri": "https://localhost:8080/"
        },
        "id": "I4ZpchqOnDMn",
        "outputId": "e6b211ca-fac3-4368-d8ed-e0961ada1b54"
      },
      "execution_count": 27,
      "outputs": [
        {
          "output_type": "stream",
          "name": "stdout",
          "text": [
            "enter your string hereFaisal\n",
            "reversed string:   lasiaF\n"
          ]
        }
      ]
    },
    {
      "cell_type": "code",
      "source": [
        "#Write a Python program to calculate the factorial of a number provided by the user using a while loop,\n",
        "\n",
        "def calculate_factorial():\n",
        "    number = int(input(\"Enter a number: \"))\n",
        "    factorial = 1\n",
        "    i = 1\n",
        "\n",
        "    while i <= number:\n",
        "        factorial *= i\n",
        "        i += 1\n",
        "\n",
        "    print(f\"The factorial of {number} is {factorial}\")\n",
        "\n",
        "# Call the function\n",
        "calculate_factorial()"
      ],
      "metadata": {
        "colab": {
          "base_uri": "https://localhost:8080/"
        },
        "id": "ju2UNRzsokKw",
        "outputId": "21b34f44-7d3c-40b8-de03-e973b036517c"
      },
      "execution_count": 28,
      "outputs": [
        {
          "output_type": "stream",
          "name": "stdout",
          "text": [
            "Enter a number: 5\n",
            "The factorial of 5 is 120\n"
          ]
        }
      ]
    }
  ]
}